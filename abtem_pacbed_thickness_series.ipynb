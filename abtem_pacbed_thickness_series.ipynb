{
 "cells": [
  {
   "cell_type": "markdown",
   "source": [
    "This script generates PACBED images based on an input .cif file, and automatically creates a thickness series of images.  The settings which may commonly be adjusted are collected in the settings dictionary just after the imports.\n",
    "\n",
    "The basic logic of the script is:\n",
    "\n",
    "   1.  Read the .cif file\n",
    "   2.  Initialize a pixelated detector to capture the PACBED(s)\n",
    "   3.  Generate a full-thickness model from the .cif file\n",
    "   4.  Setup other needed objects (probe, grid scan, frozen phonon configs, etc)\n",
    "   5.  Generate a potential object for each frozen phonon configuration\n",
    "   6.  Slice the potential into chunks (of \"thickness_step\") along propagation direction\n",
    "   7.  Propagate the probe through that chunk for each position in the gridscan\n",
    "   8.  Detect the probes and store those measurements into a list\n",
    "   9.  Sum together the measurement from each probe position to get PACBED(s) for each thickness\n",
    "   10. Export the PACBED(s) as a .tif stack"
   ],
   "metadata": {
    "collapsed": false
   }
  },
  {
   "cell_type": "code",
   "execution_count": 1,
   "outputs": [],
   "source": [
    "from importlib import reload\n",
    "import graphical\n",
    "reload(graphical)\n",
    "import abtem_backend as backend\n",
    "reload(backend)\n",
    "from ase.visualize import view"
   ],
   "metadata": {
    "collapsed": false,
    "ExecuteTime": {
     "start_time": "2023-08-12T13:46:13.198355Z",
     "end_time": "2023-08-12T13:46:19.931109Z"
    }
   }
  },
  {
   "cell_type": "code",
   "execution_count": 2,
   "outputs": [
    {
     "data": {
      "text/plain": "<Popen: returncode: None args: ['C:\\\\Users\\\\charles\\\\.jupyter\\\\venv\\\\Scripts...>"
     },
     "execution_count": 2,
     "metadata": {},
     "output_type": "execute_result"
    }
   ],
   "source": [
    "# Preview the cif file to make sure it looks right\n",
    "# This pops up a new interactive window where you can rotate / pan / zoom / etc. with the cif model\n",
    "cif_cell = graphical.gui_open(ffmt=\"cif\")\n",
    "view(cif_cell)\n",
    "# Technically, reading the cif returns a generator (because cifs can store multiple crystal structures in one file),\n",
    "# in which case this only shows the first valid structure.  But practically, just avoid using cif files with multiple structures in them"
   ],
   "metadata": {
    "collapsed": false,
    "ExecuteTime": {
     "start_time": "2023-08-12T13:46:37.518210Z",
     "end_time": "2023-08-12T13:46:49.862505Z"
    }
   }
  },
  {
   "cell_type": "code",
   "execution_count": 19,
   "outputs": [],
   "source": [
    "# Build the models\n",
    "models = backend.build_from_cif(graphical.gui_get_path(),\n",
    "                                zas=[(1, 1, 0)],\n",
    "                                tks=300,\n",
    "                                tilings=[(18,20)])"
   ],
   "metadata": {
    "collapsed": false,
    "ExecuteTime": {
     "start_time": "2023-08-12T14:05:15.813487Z",
     "end_time": "2023-08-12T14:05:19.903290Z"
    }
   }
  },
  {
   "cell_type": "code",
   "execution_count": 10,
   "outputs": [],
   "source": [
    "# Preview the models in an interactive window\n",
    "# WARNING: This will lag *badly* for large models!  Feel free to skip\n",
    "for model in models:\n",
    "    view(model.atoms)"
   ],
   "metadata": {
    "collapsed": false,
    "ExecuteTime": {
     "start_time": "2023-08-12T13:49:27.261916Z",
     "end_time": "2023-08-12T13:49:27.702868Z"
    }
   }
  },
  {
   "cell_type": "code",
   "execution_count": 20,
   "outputs": [],
   "source": [
    "det = backend.DetectorBuilder()\n",
    "potential_parameters = backend.PotentialParameters(sampling=0.1,\n",
    "                                                   slice_thickness=1,\n",
    "                                                   parametrization=\"kirkland\",\n",
    "                                                   projection=\"infinite\",\n",
    "                                                   precalculate=True,\n",
    "                                                   device=\"gpu\",\n",
    "                                                   storage=\"cpu\",\n",
    "                                                   seed=42,\n",
    "                                                   fp_cfgs=10,\n",
    "                                                   fp_sigmas={\"Al\": 0.0567,  # DOI: 10.1107/S0108767309004966\n",
    "                                                              \"Sc\": 0.0567,  # No good source for this, assuming the same as Al\n",
    "                                                              \"N\":  0.0593})\n",
    "probe_parameters = backend.ProbeParameters(max_batch=50,\n",
    "                                           energy=200E3,\n",
    "                                           convergence=17.9,\n",
    "                                           device=\"gpu\",\n",
    "                                           tilt_mag=0, tilt_rot=0,\n",
    "                                           defocus=0,\n",
    "                                           stig=0, stig_rot=0,\n",
    "                                           coma=0, coma_rot=0,\n",
    "                                           spherical=0)\n",
    "thickness_step = 10"
   ],
   "metadata": {
    "collapsed": false,
    "ExecuteTime": {
     "start_time": "2023-08-12T14:05:24.557986Z",
     "end_time": "2023-08-12T14:05:24.567974Z"
    }
   }
  },
  {
   "cell_type": "code",
   "execution_count": 21,
   "outputs": [],
   "source": [
    "# Run the simulation\n",
    "results = backend.simulate_packbed_thickness_series(models, det, potential_parameters, probe_parameters,\n",
    "                                                    thickness_step=thickness_step)"
   ],
   "metadata": {
    "collapsed": false,
    "ExecuteTime": {
     "start_time": "2023-08-12T14:05:26.220580Z",
     "end_time": "2023-08-12T14:28:09.404966Z"
    }
   }
  },
  {
   "cell_type": "code",
   "execution_count": 17,
   "outputs": [
    {
     "ename": "IndexError",
     "evalue": "too many indices for array: array is 1-dimensional, but 2 were indexed",
     "output_type": "error",
     "traceback": [
      "\u001B[1;31m---------------------------------------------------------------------------\u001B[0m",
      "\u001B[1;31mIndexError\u001B[0m                                Traceback (most recent call last)",
      "Cell \u001B[1;32mIn[17], line 7\u001B[0m\n\u001B[0;32m      5\u001B[0m fig, axs \u001B[38;5;241m=\u001B[39m plt\u001B[38;5;241m.\u001B[39msubplots(n_tks, n_zas, frameon\u001B[38;5;241m=\u001B[39m\u001B[38;5;28;01mFalse\u001B[39;00m)\n\u001B[0;32m      6\u001B[0m \u001B[38;5;28;01mfor\u001B[39;00m i, res \u001B[38;5;129;01min\u001B[39;00m \u001B[38;5;28menumerate\u001B[39m(results):\n\u001B[1;32m----> 7\u001B[0m         \u001B[43maxs\u001B[49m\u001B[43m[\u001B[49m\u001B[43mj\u001B[49m\u001B[43m,\u001B[49m\u001B[43m \u001B[49m\u001B[43mi\u001B[49m\u001B[43m]\u001B[49m\u001B[38;5;241m.\u001B[39mimshow(res\u001B[38;5;241m.\u001B[39mmeasurements[\u001B[38;5;241m-\u001B[39m\u001B[38;5;241m1\u001B[39m][res\u001B[38;5;241m.\u001B[39mdetector]\u001B[38;5;241m.\u001B[39msum((\u001B[38;5;241m0\u001B[39m, \u001B[38;5;241m1\u001B[39m))\u001B[38;5;241m.\u001B[39marray, cmap\u001B[38;5;241m=\u001B[39m\u001B[38;5;124m\"\u001B[39m\u001B[38;5;124mmagma\u001B[39m\u001B[38;5;124m\"\u001B[39m)\n\u001B[0;32m      8\u001B[0m         axs[j, i]\u001B[38;5;241m.\u001B[39maxis(\u001B[38;5;124m\"\u001B[39m\u001B[38;5;124moff\u001B[39m\u001B[38;5;124m\"\u001B[39m)\n\u001B[0;32m      9\u001B[0m fig\u001B[38;5;241m.\u001B[39msubplots_adjust(wspace\u001B[38;5;241m=\u001B[39m\u001B[38;5;241m0\u001B[39m, hspace\u001B[38;5;241m=\u001B[39m\u001B[38;5;241m0\u001B[39m)\n",
      "\u001B[1;31mIndexError\u001B[0m: too many indices for array: array is 1-dimensional, but 2 were indexed"
     ]
    },
    {
     "data": {
      "text/plain": "<Figure size 640x480 with 31 Axes>",
      "image/png": "[encoded data removed]"
     },
     "metadata": {},
     "output_type": "display_data"
    }
   ],
   "source": [
    "# Preview the results\n",
    "from matplotlib import pyplot as plt\n",
    "n_zas = len(results)\n",
    "n_tks = len(results[0].thicknesses)\n",
    "fig, axs = plt.subplots(n_tks, n_zas, frameon=False)\n",
    "for i, res in enumerate(results):\n",
    "        axs[j, i].imshow(res.measurements[-1][res.detector].sum((0, 1)).array, cmap=\"magma\")\n",
    "        axs[j, i].axis(\"off\")\n",
    "fig.subplots_adjust(wspace=0, hspace=0)"
   ],
   "metadata": {
    "collapsed": false,
    "ExecuteTime": {
     "start_time": "2023-08-12T14:00:00.524934Z",
     "end_time": "2023-08-12T14:00:02.418923Z"
    }
   }
  },
  {
   "cell_type": "code",
   "execution_count": 23,
   "outputs": [],
   "source": [
    "backend.export_pacbed_as_tif(results=results,\n",
    "                             export_path=r\"C:\\Users\\Charles\\Desktop\",\n",
    "                             probe_prms=probe_parameters,\n",
    "                             thickness_step=thickness_step)"
   ],
   "metadata": {
    "collapsed": false,
    "ExecuteTime": {
     "start_time": "2023-08-12T15:16:01.772479Z",
     "end_time": "2023-08-12T15:16:02.878768Z"
    }
   }
  },
  {
   "cell_type": "code",
   "execution_count": null,
   "outputs": [],
   "source": [],
   "metadata": {
    "collapsed": false
   }
  }
 ],
 "metadata": {
  "kernelspec": {
   "display_name": "Python 3",
   "language": "python",
   "name": "python3"
  },
  "language_info": {
   "codemirror_mode": {
    "name": "ipython",
    "version": 2
   },
   "file_extension": ".py",
   "mimetype": "text/x-python",
   "name": "python",
   "nbconvert_exporter": "python",
   "pygments_lexer": "ipython2",
   "version": "2.7.6"
  }
 },
 "nbformat": 4,
 "nbformat_minor": 0
}
