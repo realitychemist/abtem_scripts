{
 "cells": [
  {
   "cell_type": "code",
   "execution_count": 25,
   "outputs": [
    {
     "data": {
      "text/plain": "<module 'SingleOrigin' from 'C:\\\\Users\\\\charles\\\\Documents\\\\GitHub\\\\SingleOrigin\\\\__init__.py'>"
     },
     "execution_count": 25,
     "metadata": {},
     "output_type": "execute_result"
    }
   ],
   "source": [
    "from copy import deepcopy\n",
    "from random import choices, seed\n",
    "from ase.visualize import view\n",
    "from importlib import reload\n",
    "import numpy as np\n",
    "from ase import Atoms\n",
    "from itertools import cycle, islice\n",
    "import matplotlib\n",
    "%matplotlib widget\n",
    "import matplotlib.pyplot as plt\n",
    "import graphical\n",
    "reload(graphical)\n",
    "import abtem_backend as backend\n",
    "reload(backend)\n",
    "import ase_funcs\n",
    "reload(ase_funcs)\n",
    "import SingleOrigin as so\n",
    "reload(so)"
   ],
   "metadata": {
    "collapsed": false,
    "ExecuteTime": {
     "start_time": "2023-05-16T12:21:48.760808Z",
     "end_time": "2023-05-16T12:21:48.786171Z"
    }
   }
  },
  {
   "cell_type": "code",
   "execution_count": null,
   "outputs": [],
   "source": [
    "# Preview the cif file to make sure it looks right\n",
    "# This pops up a new interactive window where you can rotate / pan / zoom / etc. with the cif model\n",
    "cif_cell = graphical.gui_open(ffmt=\"cif\")\n",
    "view(cif_cell)\n",
    "# Technically, reading the cif returns a generator (because cifs can store multiple crystal structures in one file),\n",
    "# in which case this only shows the first valid structure.  But practically, just avoid using cif files with multiple structures in them"
   ],
   "metadata": {
    "collapsed": false,
    "ExecuteTime": {
     "start_time": "2023-05-01T16:35:26.135866Z",
     "end_time": "2023-05-01T16:35:28.672287Z"
    }
   }
  },
  {
   "cell_type": "markdown",
   "source": [
    "First we want to check some thin samples; with these, we can exhaustively enumerate the possible configurational variations within a column, which should give us a little bit of insight into how quickly we're losing information about the in-column chemistry.  Let's build models up to 4 projected cells thick."
   ],
   "metadata": {
    "collapsed": false
   }
  },
  {
   "cell_type": "code",
   "execution_count": null,
   "outputs": [],
   "source": [
    "thin_models = backend.build_from_cif(graphical.gui_get_path(),\n",
    "                                     zas=(1, 1, 0),\n",
    "                                     tks=[2, 6, 8, 12],\n",
    "                                     tilings=(2, 2))"
   ],
   "metadata": {
    "collapsed": false,
    "ExecuteTime": {
     "start_time": "2023-05-02T13:07:08.624853Z",
     "end_time": "2023-05-02T13:07:19.642315Z"
    }
   }
  },
  {
   "cell_type": "code",
   "execution_count": null,
   "outputs": [],
   "source": [
    "# Preview a model to make sure it looks right\n",
    "view(thin_models[-1].atoms)"
   ],
   "metadata": {
    "collapsed": false,
    "ExecuteTime": {
     "start_time": "2023-05-02T13:06:26.974913Z",
     "end_time": "2023-05-02T13:06:27.022913Z"
    }
   }
  },
  {
   "cell_type": "code",
   "execution_count": null,
   "outputs": [],
   "source": [
    "chopped_models = [ase_funcs.split_by_projected_columns(model.atoms, kinds=\"Al\") for model in thin_models]"
   ],
   "metadata": {
    "collapsed": false,
    "ExecuteTime": {
     "start_time": "2023-05-02T13:07:26.775117Z",
     "end_time": "2023-05-02T13:07:26.783115Z"
    }
   }
  },
  {
   "cell_type": "code",
   "execution_count": null,
   "outputs": [],
   "source": [
    "# Treat the one cell thick case specially, since we just want to pick at (pseudo)random\n",
    "seed(12)  # This seed gives an actual 50:50 ratio\n",
    "syms = choices([\"Al\", \"Sc\"], weights=[0.5, 0.5], k=len(chopped_models[0]))\n",
    "seed(None)  # Unset the seed, so we don't mess up later steps\n",
    "for i, col in enumerate(chopped_models[0]):\n",
    "    col[0].symbol = syms[i]"
   ],
   "metadata": {
    "collapsed": false,
    "ExecuteTime": {
     "start_time": "2023-05-02T13:07:26.929697Z",
     "end_time": "2023-05-02T13:07:26.944696Z"
    }
   }
  },
  {
   "cell_type": "code",
   "execution_count": null,
   "outputs": [],
   "source": [
    "# Then, for the rest, let's exhaustively go through all possible variations and assign them to a column\n",
    "# For the four cell thick case, this is 1:1; for thinner models, we will need to repeat some\n",
    "for model, cm in zip(thin_models[1:], chopped_models[1:]):\n",
    "    n_vars = pow(2, len(cm[0]))\n",
    "    # Get variations, and unwrap the returned tuples to remove the labels (which we don't need right now)\n",
    "    new_cols = [col[1] for col in ase_funcs.gen_variations(Atoms(cm[0]), subs=(\"Al\", \"Sc\"))]\n",
    "\n",
    "    if len(cm) >= n_vars:\n",
    "        new_cols = list(islice(cycle(new_cols), len(cm)))  # Repeat to account for all columns\n",
    "    elif len(cm) <= n_vars:\n",
    "        raise ValueError(\"Too many possible variations; increase supercell x-y size\")\n",
    "    # else len(cm) == n_vars, and we don't need to change new_cols\n",
    "\n",
    "    # ndarray for fast & easy 2D lookup\n",
    "    # Index guide: [column, pos_in_col, tuple], where for tuple 0 is index in model and 1 is symbol\n",
    "    cm_array = np.array([[(atom.index, atom.symbol) for atom in col] for col in cm])\n",
    "    for i, col in enumerate(new_cols):\n",
    "        for j, atom in enumerate(col):\n",
    "            cm_array[i, j, 1] = atom.symbol\n",
    "    del new_cols  # We don't need this anymore\n",
    "    #  Finally, we can modify the models to have the correct elements!\n",
    "    for atom in model.atoms:\n",
    "        if atom.symbol in [\"Al\"]:\n",
    "            cm_location = np.where(cm_array[:, :, 0] == str(atom.index))\n",
    "            atom.symbol = cm_array[cm_location[0], cm_location[1], 1][0]\n"
   ],
   "metadata": {
    "collapsed": false,
    "ExecuteTime": {
     "start_time": "2023-05-02T13:07:27.503313Z",
     "end_time": "2023-05-02T13:07:27.529315Z"
    }
   }
  },
  {
   "cell_type": "code",
   "execution_count": null,
   "outputs": [],
   "source": [
    "# STEM simulation setup\n",
    "db = backend.DetectorBuilder()\n",
    "potential_parameters = backend.PotentialParameters(sampling=0.1,\n",
    "                                                   slice_thickness=1,\n",
    "                                                   device=\"gpu\",\n",
    "                                                   storage=\"cpu\",\n",
    "                                                   fp_cfgs=100,\n",
    "                                                   fp_sigmas={\"Al\": 0.0567,  # DOI: 10.1107/S0108767309004966\n",
    "                                                              \"Sc\": 0.0567,  # No good source for this, assuming the same as Al\n",
    "                                                              \"N\":  0.0593})\n",
    "# Lower convergence angle helps a little bit with chemistry, but of course there's a tradeoff with resolution\n",
    "# I know I can get atomic res with 17.9, and going down to 10 only helps a small amount with chemical quantification\n",
    "probe_parameters = backend.ProbeParameters(device=\"gpu\", convergence=17.9)"
   ],
   "metadata": {
    "collapsed": false,
    "ExecuteTime": {
     "start_time": "2023-04-19T11:27:02.868128Z",
     "end_time": "2023-04-19T11:27:02.902129Z"
    }
   }
  },
  {
   "cell_type": "code",
   "execution_count": null,
   "outputs": [],
   "source": [
    "# STEM simulation; it's fast for models this small!  Only takes about 2 minutes\n",
    "thin_results = []\n",
    "for model in thin_models:\n",
    "    thin_results.append(backend.sim_stem([model],\n",
    "                                    db,\n",
    "                                    potential_prms=potential_parameters,\n",
    "                                    probe_prms=probe_parameters,\n",
    "                                    kinds=[\"haadf\"]))"
   ],
   "metadata": {
    "collapsed": false,
    "ExecuteTime": {
     "start_time": "2023-04-19T11:27:03.260393Z",
     "end_time": "2023-04-19T11:29:11.763218Z"
    }
   }
  },
  {
   "cell_type": "code",
   "execution_count": null,
   "outputs": [],
   "source": [
    "# Process the results into HAADF images\n",
    "imgs = []\n",
    "for result in thin_results:\n",
    "    res = result[0]  # Unwrap single element list\n",
    "    meas = res.measurement[0]\n",
    "    img = meas.interpolate(tuple([x/4 for x in res.grid.sampling]), kind=\"fft\").tile((3, 3)).array\n",
    "    img = so.image_norm(img)\n",
    "    imgs.append(img)"
   ],
   "metadata": {
    "collapsed": false,
    "ExecuteTime": {
     "start_time": "2023-04-19T11:29:11.765220Z",
     "end_time": "2023-04-19T11:29:11.797249Z"
    }
   }
  },
  {
   "cell_type": "code",
   "execution_count": null,
   "outputs": [],
   "source": [
    "# Preview one of the images, to make sure\n",
    "plt.clf()\n",
    "plt.imshow(imgs[3], cmap=\"binary\")\n",
    "plt.axis(\"off\")\n",
    "plt.show()"
   ],
   "metadata": {
    "collapsed": false,
    "ExecuteTime": {
     "start_time": "2023-04-19T11:29:11.795246Z",
     "end_time": "2023-04-19T11:29:11.873819Z"
    }
   }
  },
  {
   "cell_type": "markdown",
   "source": [
    "Now that we have simulated HAADF images, we'll fit with SingleOrigin as this allows us to get the integrated column intensity as a measure of chemistry at a per-column level.  There are a couple of notes here to make sure this works right:\n",
    "1. When selecting FFT spots, first select the $0 0 \\bar{2}$ spot (right of the origin), and then select the $1 \\bar{1} 0$ spot (above the origin).  This ensures proper orientation of the unit cell with respect to the image.\n",
    "2. When selecting a column as the origin of the fitted lattice, use the column just to the right of the centerline and 6 projected cells up from the bottom of the image.  This both ensures correct alignment of the unit cell with respect to the image, and ensure that some later analysis steps with hard-coded \"magic numbers\" work out correctly.  If done correctly, the peak should be found at image coordinates `[196, 196]`."
   ],
   "metadata": {
    "collapsed": false
   }
  },
  {
   "cell_type": "code",
   "execution_count": null,
   "outputs": [],
   "source": [
    "cif_path = r\"C:\\Users\\charles\\Documents\\AlScN\\raw\\AlN.cif\"\n",
    "uc = so.UnitCell(cif_path)\n",
    "\n",
    "za = [1, 1, 0]  # Zone axis direction\n",
    "a2 = [0, 0, -1]  # Apparent horizontal axis in projection\n",
    "a3 = [1, -1, 0]  # Most vertical axis in projection\n",
    "\n",
    "uc.project_zone_axis(za, a2, a3, ignore_elements=[\"N\"])\n",
    "uc.combine_prox_cols()"
   ],
   "metadata": {
    "collapsed": false,
    "ExecuteTime": {
     "start_time": "2023-04-19T11:14:38.332154Z",
     "end_time": "2023-04-19T11:14:39.308601Z"
    }
   }
  },
  {
   "cell_type": "code",
   "execution_count": null,
   "outputs": [],
   "source": [
    "uc.plot_unit_cell()"
   ],
   "metadata": {
    "collapsed": false,
    "ExecuteTime": {
     "start_time": "2023-04-19T11:14:39.309601Z",
     "end_time": "2023-04-19T11:14:39.376601Z"
    }
   }
  },
  {
   "cell_type": "code",
   "execution_count": null,
   "outputs": [],
   "source": [
    "hrimgs = [so.HRImage(img) for img in imgs]\n",
    "lattices = [hrimg.add_lattice(\"AlN\", uc) for hrimg in hrimgs]\n",
    "matplotlib.use(\"QtAgg\")\n",
    "for lattice in lattices:\n",
    "    lattice.fft_get_basis_vect(a1_order=2, a2_order=1, sigma=2)\n",
    "%matplotlib widget"
   ],
   "metadata": {
    "collapsed": false,
    "ExecuteTime": {
     "start_time": "2023-04-19T11:29:31.290083Z",
     "end_time": "2023-04-19T11:29:48.418104Z"
    }
   }
  },
  {
   "cell_type": "code",
   "execution_count": null,
   "outputs": [],
   "source": [
    "matplotlib.use(\"QtAgg\")\n",
    "for lattice in lattices:\n",
    "    lattice.roi_mask = np.ones(imgs[0].shape)\n",
    "    lattice.define_reference_lattice()\n",
    "%matplotlib widget"
   ],
   "metadata": {
    "collapsed": false,
    "ExecuteTime": {
     "start_time": "2023-04-19T11:29:51.273033Z",
     "end_time": "2023-04-19T11:29:57.945740Z"
    }
   }
  },
  {
   "cell_type": "code",
   "execution_count": null,
   "outputs": [],
   "source": [
    "for lattice in lattices:\n",
    "    lattice.fit_atom_columns(buffer=0, local_thresh_factor=0, use_background_param=False,\n",
    "                             use_bounds=True, use_circ_gauss=False, parallelize=True,\n",
    "                             peak_grouping_filter=None)\n",
    "\n",
    "    # Must have only one column per projected unit cell.  If no sublattice meets this criterion,\n",
    "    #  specify a specific column in the projected cell.\n",
    "    lattice.refine_reference_lattice(filter_by='elem', sites_to_use='all')"
   ],
   "metadata": {
    "collapsed": false,
    "ExecuteTime": {
     "start_time": "2023-04-19T11:30:00.310708Z",
     "end_time": "2023-04-19T11:30:05.520184Z"
    }
   }
  },
  {
   "cell_type": "code",
   "execution_count": null,
   "outputs": [],
   "source": [
    "# Check one of the fits to make sure everything worked\n",
    "hrimgs[1].plot_atom_column_positions(scatter_kwargs_dict={\"s\": 20}, scalebar_len_nm=None,\n",
    "                                     outlier_disp_cutoff=100, fit_or_ref=\"ref\")"
   ],
   "metadata": {
    "collapsed": false,
    "ExecuteTime": {
     "start_time": "2023-04-19T11:30:11.815909Z",
     "end_time": "2023-04-19T11:30:12.077928Z"
    }
   }
  },
  {
   "cell_type": "markdown",
   "source": [
    "Finally, we need to analyze the images.  Unfortunately, by far the simplest way to do this is to use some \"magic numbers\" that correspond to our understanding of the models used to generate the images.  The magic numbers here are:\n",
    "1. `sc_counts`, which hold (for each model/image) the number of Sc atoms in a projected column.  This has been done for a single supercell (i.e. not the entire $3\\times 3$ tiled image).  The indices in `sc_counts` are: image/model number, $u$ coordinate (ascending), and $v$ coordinate (ascending).  The order is, of course, crucial.\n",
    "2. $u_0$ and $v_0$, which are picked such that - so long as the correct origin column was chosed during the SingleOrigin fitting step - the $u$ and $v$ coordinates of one supercell are properly registered against `sc_counts`.\n",
    "3. The increment lists for $u$ and $v$, which span a full supercell.  $v$ needs to be offset by $1/3$ when $u$ is an integer to properly find all columns in the supercell, which might also be considered a magic number."
   ],
   "metadata": {
    "collapsed": false
   }
  },
  {
   "cell_type": "code",
   "execution_count": null,
   "outputs": [],
   "source": [
    "# These will always have the same columns, but not necessarily in the same order\n",
    "# Thus, these will need to be updated whenever the models are regenerated\n",
    "# View the models with this line of code, and make sure to rotate -90 degrees about the Z axis\n",
    "# Then, begin from the bottom left and count upward (-X direction) first, then right (+Y direction); record the Sc counts per column\n",
    "view(thin_models[3].atoms)"
   ],
   "metadata": {
    "collapsed": false,
    "ExecuteTime": {
     "start_time": "2023-04-19T11:33:31.855926Z",
     "end_time": "2023-04-19T11:33:31.901769Z"
    }
   }
  },
  {
   "cell_type": "code",
   "execution_count": null,
   "outputs": [],
   "source": [
    "sc_counts = [None, None, None, None]\n",
    "sc_counts[0] = [[1, 0, 1, 0],\n",
    "                [1, 1, 0, 0],\n",
    "                [1, 0, 1, 1],\n",
    "                [0, 0, 0, 1]]\n",
    "sc_counts[1] = [[2, 1, 1, 1],\n",
    "                [2, 1, 1, 0],\n",
    "                [0, 0, 1, 1],\n",
    "                [1, 2, 0, 2]]\n",
    "sc_counts[2] = [[3, 2, 1, 2],\n",
    "                [3, 1, 2, 2],\n",
    "                [0, 2, 1, 1],\n",
    "                [2, 1, 0, 1]]\n",
    "sc_counts[3] = [[4, 3, 2, 2],\n",
    "                [2, 2, 3, 1],\n",
    "                [2, 3, 1, 1],\n",
    "                [2, 1, 0, 3]]"
   ],
   "metadata": {
    "collapsed": false,
    "ExecuteTime": {
     "start_time": "2023-04-19T11:35:57.408466Z",
     "end_time": "2023-04-19T11:35:57.429477Z"
    }
   }
  },
  {
   "cell_type": "code",
   "execution_count": null,
   "outputs": [],
   "source": [
    "# For more convenient analysis\n",
    "frames = []\n",
    "for lat in lattices:\n",
    "    frame = deepcopy(lat.at_cols)\n",
    "    frame.drop([\"site_frac\", \"x\", \"y\", \"weight\"], axis=1, inplace=True)  # We don't need these cols\n",
    "    frame.reset_index(drop=True, inplace=True)\n",
    "    frames.append(frame)"
   ],
   "metadata": {
    "collapsed": false,
    "ExecuteTime": {
     "start_time": "2023-04-19T11:35:58.140627Z",
     "end_time": "2023-04-19T11:35:58.159626Z"
    }
   }
  },
  {
   "cell_type": "code",
   "execution_count": null,
   "outputs": [],
   "source": [
    "u0, v0 = -1.5, -2/3  # This depends on selecting the correct column in the interactive step: peak coordinates [196, 196]\n",
    "us = [u0 + increment for increment in [0, 0.5, 1, 1.5]]\n",
    "vs = [v0 + increment for increment in [0, 1, 2, 3]]\n",
    "\n",
    "col_ints = []\n",
    "for frame in frames:\n",
    "    frame_ints = []\n",
    "    for u in us:\n",
    "        _ints = []\n",
    "        for v in vs:\n",
    "            if int(u) == u:\n",
    "                # On half-integer u steps we need to bump v up by 1/3\n",
    "                v = v + 1/3\n",
    "            match = frame.loc[(np.isclose(frame[\"u\"], u, atol=0.001)) & (np.isclose(frame[\"v\"], v, atol=0.001))]\n",
    "            _ints.append(float(match.total_col_int))\n",
    "        frame_ints.append(_ints)\n",
    "    col_ints.append(frame_ints)\n"
   ],
   "metadata": {
    "collapsed": false,
    "ExecuteTime": {
     "start_time": "2023-04-19T11:35:58.384182Z",
     "end_time": "2023-04-19T11:35:58.417168Z"
    }
   }
  },
  {
   "cell_type": "code",
   "execution_count": null,
   "outputs": [],
   "source": [
    "%matplotlib widget\n",
    "which = 3  # Which thickness to plot for\n",
    "clist = [count for sublist in sc_counts[which] for count in sublist]\n",
    "ilist = [intensity for sublist in col_ints[which] for intensity in sublist]\n",
    "plt.scatter(clist, ilist, None, \"purple\", \"x\", label=\"Data from Simulation\")\n",
    "\n",
    "fit = np.polyfit(clist, ilist, deg=1, full=True)\n",
    "linfit_xs = np.linspace(min(clist), max(clist))\n",
    "linfit_ys = linfit_xs*fit[0][0] + fit[0][1]\n",
    "plt.plot(linfit_xs, linfit_ys, \"g--\", label=f\"Linear Fit, $R^2 = ${round(1 - fit[1][0] / np.sum((ilist - np.mean(ilist))**2), 3)}\")\n",
    "\n",
    "plt.xlabel(\"Per-Column Scandium Count\")\n",
    "plt.ylabel(\"Integrated Column Intensity (a.u.)\")\n",
    "plt.xticks(np.arange(0, max(clist)+1, 1))\n",
    "plt.legend()\n",
    "plt.show()"
   ],
   "metadata": {
    "collapsed": false,
    "ExecuteTime": {
     "start_time": "2023-04-19T11:36:38.691273Z",
     "end_time": "2023-04-19T11:36:38.759274Z"
    }
   }
  },
  {
   "cell_type": "code",
   "execution_count": 16,
   "outputs": [],
   "source": [
    "# Measured R^2 values for several trials\n",
    "# Each sublist here is a thickness, with repeats in the list representing trials\n",
    "rsquareds = [[0.996, 0.997, 0.998, 0.998, 0.999],  # 1 u.c.\n",
    "             [0.835, 0.852, 0.841, 0.851, 0.828],  # 2 u.c.\n",
    "             [0.891, 0.916, 0.924, 0.924, 0.922],  # 3 u.c.\n",
    "             [0.806, 0.765, 0.777, 0.781, 0.806]]  # 4 u.c.\n",
    "rsqaureds = np.array(rsquareds).T  # Transpose so that it works with a simple call to boxplot"
   ],
   "metadata": {
    "collapsed": false,
    "ExecuteTime": {
     "start_time": "2023-05-03T14:03:30.906166Z",
     "end_time": "2023-05-03T14:03:30.922167Z"
    }
   }
  },
  {
   "cell_type": "code",
   "execution_count": 17,
   "outputs": [
    {
     "data": {
      "text/plain": "Canvas(toolbar=Toolbar(toolitems=[('Home', 'Reset original view', 'home', 'home'), ('Back', 'Back to previous …",
      "image/png": "[encoded data removed]",
      "text/html": "\n            <div style=\"display: inline-block;\">\n                <div class=\"jupyter-widgets widget-label\" style=\"text-align: center;\">\n                    Figure\n                </div>\n                <img src='data:image/png;base64,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' width=640.0/>\n            </div>\n        ",
      "application/vnd.jupyter.widget-view+json": {
       "version_major": 2,
       "version_minor": 0,
       "model_id": "9cd2eff5e6ee477f950e330a08fb3b09"
      }
     },
     "metadata": {},
     "output_type": "display_data"
    }
   ],
   "source": [
    "%matplotlib widget\n",
    "labs = [\"1 Proj. Cell\", \"2 Proj. Cells\", \"3 Proj. Cells\", \"4 Proj. Cells\"]\n",
    "fig, ax = plt.subplots()\n",
    "ax.boxplot(rsquareds)\n",
    "ax.set_xticklabels(labs)\n",
    "ax.set_ylabel(\"Pearson Correlation Coefficient $R^2$\")\n",
    "ax.set_xlabel(\"Model Thickness\")\n",
    "plt.title(\"Correlation Between Chemistry and Integrated Intensity\")\n",
    "plt.show()"
   ],
   "metadata": {
    "collapsed": false,
    "ExecuteTime": {
     "start_time": "2023-05-03T14:03:31.023152Z",
     "end_time": "2023-05-03T14:03:31.277683Z"
    }
   }
  },
  {
   "cell_type": "markdown",
   "source": [
    "After having a look at this data, here are some tentative conclusions:\n",
    "1. The single-layer spread (associated with frozen phonons and local neighborhood) is capping $R^2 \\approx 0.998$ with a narrow spread -- not perfect of course, but quite good!\n",
    "2. For thicker samples, ordering and probe spread effects start to come into play.  Lower convergence angles help with this, but of course at some point we will lose atomic resolution which defeats the purpose.  I know 17.9 will give resolved columns, so I'll stick with that.\n",
    "3. I can't quite figure out why 3 projected cells has a better correlation than 2 projected cells; I think it may have to do with the increased distance between the integrated intensity for a column with no Sc and a column with 3 Sc (compared to the max of 2 Sc in the 2 projected cells case), in which case the reductin in correlation for the 4-cell thick case suggests that ordering effects will, in the long run, outpace the effect of this increased distance.\n",
    "\n",
    "This is reasonable for now; at this point it's probably best to start working on thicker simulations to see where we end up with much thicker samples.  These will be more realistic for actual TEM samples, which aren't often less than 10nm thick.  I'll test a range from 10nm to 30nm thick, with Sc content from 10% to 30%, and each trial will get 32 trials.  Doing it this way means I can simulate 4 different columns in each image, leading to 8 trials per condition.  I'll also take special account of the endmembers (0% Sc and 100% Sc) to put bounds on where integrated intensity values can fall for each thickness, and get an idea of how much intensity spread there is due to non-chemistry effects."
   ],
   "metadata": {
    "collapsed": false
   }
  },
  {
   "cell_type": "code",
   "execution_count": 2,
   "outputs": [],
   "source": [
    "# Random seeds from random.org (x32)\n",
    "seeds = [87353, 39801, 56916, 62903, 76446, 40231, 92312, 43299,\n",
    "         72148, 37976, 93458, 22838, 78787, 89538, 53240, 82349,\n",
    "         85799, 94281, 53053, 10655, 94124, 6828, 21401, 75500,\n",
    "         7576, 74045, 70885, 23437, 25341, 59347, 23364, 96399]\n",
    "\n",
    "conditions = [{\"t\": 100, \"c\": 0.1}, {\"t\": 100, \"c\": 0.2}, {\"t\": 100, \"c\": 0.3},  # t => thickness, c => chemistry (Sc %)\n",
    "              {\"t\": 200, \"c\": 0.1}, {\"t\": 200, \"c\": 0.2}, {\"t\": 200, \"c\": 0.3},\n",
    "              {\"t\": 300, \"c\": 0.1}, {\"t\": 300, \"c\": 0.2}, {\"t\": 300, \"c\": 0.3},\n",
    "              {\"t\": 100, \"c\": 0.0}, {\"t\": 200, \"c\": 0.0}, {\"t\": 300, \"c\": 0.0},  # Wurtzite AlN endmember\n",
    "              {\"t\": 100, \"c\": 1.0}, {\"t\": 200, \"c\": 1.0}, {\"t\": 300, \"c\": 1.0}]  # Wurtzite ScN endmember\n",
    "\n",
    "# 32 trials per condition w/ 4 trials per sim ==> 120 simulations!  Even if they only take a few minutes each, this will be slow\n",
    "# Thus this will need to be done in a loop, and measurements should be saved to a file after each simulation in case of a crash"
   ],
   "metadata": {
    "collapsed": false,
    "ExecuteTime": {
     "start_time": "2023-05-16T11:01:49.733319Z",
     "end_time": "2023-05-16T11:01:49.754316Z"
    }
   }
  },
  {
   "cell_type": "code",
   "execution_count": 9,
   "outputs": [],
   "source": [
    "thick_models = backend.build_from_cif(graphical.gui_get_path(),\n",
    "                                      zas=(1, 1, 0),\n",
    "                                      tks=[conditions[i][\"t\"] for i in range(len(conditions))],\n",
    "                                      tilings=(1, 1))"
   ],
   "metadata": {
    "collapsed": false,
    "ExecuteTime": {
     "start_time": "2023-05-16T12:09:52.895322Z",
     "end_time": "2023-05-16T12:09:56.063336Z"
    }
   }
  },
  {
   "cell_type": "code",
   "execution_count": 26,
   "outputs": [],
   "source": [
    "# Warning: reusing this name, be careful of running this out of order\n",
    "chopped_models = [ase_funcs.split_by_projected_columns(model.atoms, kinds=\"Al\") for model in thick_models]\n",
    "\n",
    "for cm, cond, model, seed in zip(chopped_models, conditions, thick_models, seeds):\n",
    "    new_cols = []\n",
    "    for col in cm:\n",
    "        column = ase_funcs.randomize_chem(Atoms(col), replacements={\"Al\": {\"Sc\": cond[\"c\"]}}, prseed=seed)\n",
    "        new_cols.append(column)\n",
    "\n",
    "    swap_list = []\n",
    "    for new_col, old_col in zip(new_cols, cm):\n",
    "        for new_atom, old_atom in zip(new_col, old_col):\n",
    "            swap_list.append({\"idx\": old_atom.index, \"sym\": new_atom.symbol})\n",
    "    del new_cols  # We don't need this anymore\n",
    "\n",
    "    for atom in model.atoms:\n",
    "        if atom.symbol in [\"Al\"]:\n",
    "            new_symbol = next(entry[\"sym\"] for entry in swap_list if entry[\"idx\"] == atom.index)\n",
    "            atom.symbol = new_symbol"
   ],
   "metadata": {
    "collapsed": false,
    "ExecuteTime": {
     "start_time": "2023-05-16T12:21:53.147851Z",
     "end_time": "2023-05-16T12:21:53.596448Z"
    }
   }
  },
  {
   "cell_type": "code",
   "execution_count": null,
   "outputs": [],
   "source": [],
   "metadata": {
    "collapsed": false
   }
  }
 ],
 "metadata": {
  "kernelspec": {
   "display_name": "Python 3",
   "language": "python",
   "name": "python3"
  },
  "language_info": {
   "codemirror_mode": {
    "name": "ipython",
    "version": 2
   },
   "file_extension": ".py",
   "mimetype": "text/x-python",
   "name": "python",
   "nbconvert_exporter": "python",
   "pygments_lexer": "ipython2",
   "version": "2.7.6"
  }
 },
 "nbformat": 4,
 "nbformat_minor": 0
}
